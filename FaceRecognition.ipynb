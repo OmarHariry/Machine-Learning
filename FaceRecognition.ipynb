{
  "nbformat": 4,
  "nbformat_minor": 0,
  "metadata": {
    "colab": {
      "name": "FaceRecognition.ipynb",
      "provenance": [],
      "collapsed_sections": []
    },
    "kernelspec": {
      "name": "python3",
      "display_name": "Python 3"
    },
    "language_info": {
      "name": "python"
    }
  },
  "cells": [
    {
      "cell_type": "code",
      "metadata": {
        "id": "JPwi2ABLZTwt"
      },
      "source": [
        "import numpy as np\n",
        "import pandas as pd\n",
        "from matplotlib import pyplot as plt\n",
        "import cv2\n",
        "import os\n",
        "import random\n",
        "import sklearn\n",
        "from random import randrange\n",
        "from collections import Counter"
      ],
      "execution_count": null,
      "outputs": []
    },
    {
      "cell_type": "code",
      "metadata": {
        "id": "KspDPN9LStI9"
      },
      "source": [
        ""
      ],
      "execution_count": null,
      "outputs": []
    },
    {
      "cell_type": "code",
      "metadata": {
        "id": "T3BOwZ7eamNK"
      },
      "source": [
        "class KNearstNeighbour:\n",
        "  def __init__(self,k):\n",
        "    self.k = k\n",
        "  def train(self,X_train,y_train):\n",
        "    self.X_train = X_train\n",
        "    self.y_train = y_train\n",
        "  def predict(self,X_test):\n",
        "    distances = self.euclidean_distance(X_test)\n",
        "    return self.predict_labels(distances) \n",
        "  def euclidean_distance(self,X_test):\n",
        "    #We want to compute distance \n",
        "    #for each test points we want to compute\n",
        "    #the distance with all other train points\n",
        "    n_test = X_test.shape[0]\n",
        "    n_train = self.X_train.shape[0]\n",
        "    distances = np.zeros((n_test,n_train))\n",
        "    for i in range(n_test):\n",
        "      for j in range(n_train):\n",
        "        distances[i,j]=np.sqrt(np.sum((X_test[i, :] - self.X_train[j, :]) ** 2))      \n",
        "    return distances\n",
        "\n",
        "  def predict_labels(self,distances):\n",
        "      n_test = distances.shape[0]\n",
        "      y_pred = np.zeros(n_test)\n",
        "      for i in range(n_test):\n",
        "        idx = np.argsort(distances[i,:])\n",
        "        kn = self.y_train[idx[:self.k]]\n",
        "        kn = kn.flatten()\n",
        "        \n",
        "        most_common = Counter(kn).most_common(self.k)\n",
        "        if self.k > 1:\n",
        "          #keep decreasing the k untill there's no ties\n",
        "          while most_common[0][1] == most_common[1][1]:\n",
        "            self.k = self.k - 1\n",
        "            idx = argsort(distances[i,:])\n",
        "            kn = self.y_train(idx[:self.k])\n",
        "            kn = kn.flatten()\n",
        "            most_common = Counter(kn).most_common(self.k)\n",
        "        \n",
        "        y_pred[i] = most_common[0][0]\n",
        "      return y_pred.reshape(len(y_test),1)"
      ],
      "execution_count": null,
      "outputs": []
    },
    {
      "cell_type": "code",
      "metadata": {
        "colab": {
          "base_uri": "https://localhost:8080/"
        },
        "id": "NmgdvFZdZX8j",
        "outputId": "a1d5d878-0775-4fc9-d85a-554535b0918c"
      },
      "source": [
        "from google.colab import drive\n",
        "drive.mount('/content/drive')"
      ],
      "execution_count": null,
      "outputs": [
        {
          "output_type": "stream",
          "text": [
            "Drive already mounted at /content/drive; to attempt to forcibly remount, call drive.mount(\"/content/drive\", force_remount=True).\n"
          ],
          "name": "stdout"
        }
      ]
    },
    {
      "cell_type": "code",
      "metadata": {
        "id": "YxO-F3LnZcLZ"
      },
      "source": [
        "def construct_DataMatrix():\n",
        "  DIR = 'drive/MyDrive/Dataset/'\n",
        "  D = []\n",
        "  y = []\n",
        "  for i in range(1,41):\n",
        "    path = os.path.join(DIR,'s'+str(i))\n",
        "    for j in range(1,11):\n",
        "      img_path = os.path.join(path,str(j)+\".pgm\")\n",
        "      #print(img_path)\n",
        "      y.append(i)\n",
        "      arr = cv2.imread(img_path,0)\n",
        "      arr = arr.flatten().reshape(10304)\n",
        "      D.append(arr) \n",
        "  \n",
        "  D = np.array(D)\n",
        "  y = np.array(y).reshape(400,1)\n",
        "  return D,y"
      ],
      "execution_count": null,
      "outputs": []
    },
    {
      "cell_type": "code",
      "metadata": {
        "id": "1k7vvEKmZh9F",
        "colab": {
          "base_uri": "https://localhost:8080/"
        },
        "outputId": "db65d6af-c04b-4a59-efaa-384ccba0f042"
      },
      "source": [
        "img = cv2.imread('drive/MyDrive/Dataset/s1/1.pgm',0)\n",
        "print(\"Image Before Flattening\", img.shape)\n",
        "img = img.flatten().reshape(10304, 1)\n",
        "print(\"Image After Flattening\", img.shape)\n",
        "print(\"Data Matrix = \" ,D.shape)\n"
      ],
      "execution_count": null,
      "outputs": [
        {
          "output_type": "stream",
          "text": [
            "Image Before Flattening (112, 92)\n",
            "Image After Flattening (10304, 1)\n",
            "Data Matrix =  (400, 10304)\n"
          ],
          "name": "stdout"
        }
      ]
    },
    {
      "cell_type": "code",
      "metadata": {
        "id": "dl-_BU7I_So-"
      },
      "source": [
        "def train_test_split(D,y,split):\n",
        "  #if ratio 50%\n",
        "  #do even-odd split\n",
        "  #odd for train\n",
        "  #even for test\n",
        "  if split == 0.5:\n",
        "    y_train = y[1::2]\n",
        "    y_test = y[::2]\n",
        "\n",
        "    X_train = D[1::2] \n",
        "    X_test = D[::2]\n",
        "       \n",
        "  #else split according to split ratio\n",
        "  #but we need to shuffle D and concate labels before splitting\n",
        "  else:\n",
        "    X_train = []\n",
        "    y_train = []\n",
        "\n",
        "    train_size = split*len(D)\n",
        "    X_test = list(D)\n",
        "    y_test = list(y)\n",
        "\n",
        "    while len(X_train) < train_size:\n",
        "      index = randrange(len(X_test))\n",
        "      X_train.append(X_test.pop(index))\n",
        "      y_train.append(y_test.pop(index))\n",
        "\n",
        "  return X_train,X_test,y_train,y_test,y"
      ],
      "execution_count": null,
      "outputs": []
    },
    {
      "cell_type": "code",
      "metadata": {
        "id": "B2S4W0omZmTd"
      },
      "source": [
        "D,y = construct_DataMatrix()\n",
        "X_train,X_test,y_train,y_test,y = train_test_split(D,y,0.7)\n",
        "\n",
        "X_train = np.array(X_train)\n",
        "X_test = np.array(X_test)\n",
        "y_train = np.array(y_train)\n",
        "y_test = np.array(y_test)\n",
        "\n",
        "\n"
      ],
      "execution_count": null,
      "outputs": []
    },
    {
      "cell_type": "code",
      "metadata": {
        "colab": {
          "base_uri": "https://localhost:8080/"
        },
        "id": "IFm-lFH6gI4g",
        "outputId": "325cb845-7734-4030-9489-ea31104ab325"
      },
      "source": [
        "# D,y = construct_DataMatrix()\n",
        "# X_train,X_test,y_train,y_test,y = train_test_split(D,y,0.7)\n",
        "print(\"Shape of X_train, X_test respectively  =  \", X_train.shape,X_test.shape)\n",
        "print(\"Shape of y_train, y_test respectively  =  \", y_train.shape,y_test.shape)"
      ],
      "execution_count": null,
      "outputs": [
        {
          "output_type": "stream",
          "text": [
            "Shape of X_train, X_test respectively  =   (280, 10304) (120, 10304)\n",
            "Shape of y_train, y_test respectively  =   (280, 1) (120, 1)\n"
          ],
          "name": "stdout"
        }
      ]
    },
    {
      "cell_type": "code",
      "metadata": {
        "id": "zFdCeB9wabqk"
      },
      "source": [
        "class PCA:\n",
        "  def __init__(self,X_train,X_test):\n",
        "    self.X_train = X_train\n",
        "    self.X_test = X_test\n",
        "    self.Z_train = None\n",
        "    self.Z_test = None\n",
        "    self.value = None\n",
        "    self.vector = None\n",
        "    \n",
        "  def fit(self):\n",
        "    mu_train = np.mean(self.X_train,axis=0)\n",
        "    mu_test = np.mean(self.X_test,axis = 0)\n",
        "\n",
        "    self.Z_train = self.X_train - mu_train.T\n",
        "    self.Z_test = self.X_test - mu_test.T\n",
        "\n",
        "\n",
        "    cov = np.cov(self.Z_train.T,bias=True)\n",
        "    print(cov.shape)\n",
        "    self.value, self.vector = np.linalg.eigh(cov)\n",
        "    idx = self.value.argsort()[::-1]   \n",
        "    self.value = self.value[idx]\n",
        "    self.vector = self.vector[:,idx]\n",
        "    return self.value,self.vector\n",
        "  \n",
        "  def findNumberOfComponents(self,alpha):\n",
        "   #vector represents eigen vector\n",
        "   #value represents eigen values\n",
        "   #Alpha represents the desired explained variance / information\n",
        "   #the function returns number of components/axis to achieve the given alpha\n",
        "    variance_explained = np.array(((self.value/np.sum(self.value))))\n",
        "    n_components = 0\n",
        "    for i in range(len(variance_explained)):\n",
        "      if alpha <= 0:\n",
        "        break\n",
        "      else:\n",
        "        alpha -= variance_explained[i]\n",
        "        n_components = n_components +1\n",
        "\n",
        "    return n_components\n",
        "\n",
        "  def transform(self,n_components):\n",
        "    W = self.vector[:,0:n_components]  \n",
        "    pca_train = np.dot(W.transpose() , self.Z_train.transpose()).transpose()  \n",
        "    pca_test = np.dot(W.transpose() , self.Z_test.transpose()).transpose()\n",
        "      \n",
        "    return pca_train,pca_test\n"
      ],
      "execution_count": null,
      "outputs": []
    },
    {
      "cell_type": "code",
      "metadata": {
        "colab": {
          "base_uri": "https://localhost:8080/"
        },
        "id": "rNyuaPWYcxr9",
        "outputId": "ee9d523f-612c-4aa7-e947-689a5ba97093"
      },
      "source": [
        "pca_model = PCA(X_train,X_test)\n",
        "value,vector = pca_model.fit()  "
      ],
      "execution_count": null,
      "outputs": [
        {
          "output_type": "stream",
          "text": [
            "(10304, 10304)\n"
          ],
          "name": "stdout"
        }
      ]
    },
    {
      "cell_type": "code",
      "metadata": {
        "colab": {
          "base_uri": "https://localhost:8080/",
          "height": 425
        },
        "id": "aURnDZcbaviB",
        "outputId": "4a798acb-99bf-430e-b8ef-540354c10f20"
      },
      "source": [
        "alpha = [0.8,0.85,0.9,0.95]\n",
        "accuracy = []\n",
        "\n",
        "for alpha_value in alpha:\n",
        "  n_components =  pca_model.findNumberOfComponents(alpha_value)\n",
        "  pca_train,pca_test = pca_model.transform(n_components)\n",
        "\n",
        "  print(\"Alpha With Value =\",alpha_value,\"Requires\",n_components,\"Axis\")\n",
        "  \n",
        "  KNN = KNearstNeighbour(k=1)\n",
        "  KNN.train(pca_train,y_train)\n",
        "  y_pred = KNN.predict(pca_test) \n",
        "  arr = (np.sum(y_pred == y_test) / len(y_test))\n",
        "  accuracy.append(arr)\n",
        "  \n",
        "for i in range(len(accuracy)):\n",
        "  print(\"The Model Accuracy With Alpha = \",alpha[i],\" Is \",accuracy[i]*100 ,\"%\")\n",
        "\n",
        "plt.plot(alpha,accuracy)\n",
        "plt.xlabel(\"Alpha\")\n",
        "plt.ylabel(\"Accuracy\")\n",
        "plt.title(\"PCA\")\n",
        "plt.show()"
      ],
      "execution_count": null,
      "outputs": [
        {
          "output_type": "stream",
          "text": [
            "Alpha With Value = 0.8 Requires 40 Axis\n",
            "Alpha With Value = 0.85 Requires 59 Axis\n",
            "Alpha With Value = 0.9 Requires 92 Axis\n",
            "Alpha With Value = 0.95 Requires 148 Axis\n",
            "The Model Accuracy With Alpha =  0.8  Is  95.83333333333334 %\n",
            "The Model Accuracy With Alpha =  0.85  Is  95.0 %\n",
            "The Model Accuracy With Alpha =  0.9  Is  95.0 %\n",
            "The Model Accuracy With Alpha =  0.95  Is  94.16666666666667 %\n"
          ],
          "name": "stdout"
        },
        {
          "output_type": "display_data",
          "data": {
            "image/png": "[encoded data removed]",
            "text/plain": [
              "<Figure size 432x288 with 1 Axes>"
            ]
          },
          "metadata": {
            "tags": [],
            "needs_background": "light"
          }
        }
      ]
    },
    {
      "cell_type": "code",
      "metadata": {
        "id": "LxTvYWuJotro"
      },
      "source": [
        "class LDA:\n",
        "  def __init__(self,X_train,X_test,y_train,y):\n",
        "    self.X_train = X_train\n",
        "    self.X_test = X_test\n",
        "    self.y_train = y_train\n",
        "    self.y = y\n",
        "    self.value = None\n",
        "    self.vector = None\n",
        "\n",
        "  def fit(self):\n",
        "    classes = np.unique(y).reshape(40,)\n",
        "    self.y_train = self.y_train.reshape(y_train.shape[0],)\n",
        "    mu_sample = np.mean(self.X_train,axis=0)\n",
        "    \n",
        "    n_features = self.X_train.shape[1]\n",
        "    B = np.zeros((n_features,n_features))\n",
        "    S = np.zeros((n_features,n_features))\n",
        "\n",
        "    for c in classes:\n",
        "      X_class = self.X_train[c==self.y_train]\n",
        "      mu_class = np.mean(X_class,axis = 0)\n",
        "      n = X_class.shape[0]\n",
        "      B += n*np.dot((mu_class - mu_sample),(mu_class - mu_sample).T)\n",
        "      S += np.cov((X_class - mu_class).T,bias = False) \n",
        "      \n",
        "    Sinv = np.linalg.inv(S)\n",
        "    SinvB = np.dot(Sinv,B)\n",
        "\n",
        "    self.value, self.vector = np.linalg.eigh(SinvB)\n",
        "    idx = self.value.argsort()[::-1]   \n",
        "    self.value = self.value[idx]\n",
        "    self.vector = self.vector[:,idx]\n",
        "    \n",
        "    return self.value,self.vector\n",
        "\n",
        "  def transform(self,n_components):\n",
        "    W = self.vector[:,:n_components]\n",
        "    lda_train = np.dot(W.T,self.X_train.T).T\n",
        "    lda_test = np.dot(W.T,self.X_test.T).T\n",
        "   \n",
        "    return lda_train,lda_test\n",
        "    "
      ],
      "execution_count": null,
      "outputs": []
    },
    {
      "cell_type": "code",
      "metadata": {
        "id": "wv9DyImfpL-0"
      },
      "source": [
        "LDA_model = LDA(X_train,X_test,y_train,y)\n",
        "value2,vector2 = LDA_model.fit()"
      ],
      "execution_count": null,
      "outputs": []
    },
    {
      "cell_type": "code",
      "metadata": {
        "colab": {
          "base_uri": "https://localhost:8080/"
        },
        "id": "j8XN0jXcZlwe",
        "outputId": "b11e84cf-bd14-430c-8ef1-b157e521b73a"
      },
      "source": [
        "from sklearn.discriminant_analysis import LinearDiscriminantAnalysis as LDA\n",
        "\n",
        "lda = LDA(n_components=39)\n",
        "X_train = lda.fit_transform(X_train, y_train)\n",
        "X_test = lda.transform(X_test)\n",
        "print(X_train)\n",
        "print(X_test.shape)\n",
        "from sklearn.neighbors import KNeighborsClassifier\n",
        "classifier = KNeighborsClassifier(n_neighbors = 1)\n",
        "classifier.fit(X_train, y_train)\n",
        "\n",
        "# Predicting the Test set results\n",
        "y_pred = classifier.predict(X_test)\n",
        "\n",
        "from sklearn.metrics import confusion_matrix\n",
        "from sklearn.metrics import accuracy_score\n",
        "\n",
        "#cm = confusion_matrix(y_test, y_pred)\n",
        "#print(cm)\n",
        "print('Accuracy' ,accuracy_score(y_test, y_pred))"
      ],
      "execution_count": null,
      "outputs": [
        {
          "output_type": "stream",
          "text": [
            "[[-7.41928191e+00  1.02853698e-01 -1.26475676e+00 ... -3.92956195e-01\n",
            "  -2.01947728e+00 -1.29346313e+00]\n",
            " [-6.63046337e+00 -2.36434606e+00  1.99620548e-01 ... -1.45541328e+00\n",
            "  -2.76032675e-01 -1.17263639e-01]\n",
            " [-5.14978701e+00 -8.05363673e-01 -1.80153982e+00 ... -1.00845205e+00\n",
            "   2.46716713e+00 -1.77434992e-01]\n",
            " ...\n",
            " [-5.84518113e+00  2.62345328e+00  2.52885592e+00 ...  6.91498657e-01\n",
            "   9.52788685e-01 -1.35094999e-01]\n",
            " [-5.75857755e+00  1.69959814e+00  2.57407773e+00 ...  3.03681955e-01\n",
            "   2.85487953e+00 -2.46223028e+00]\n",
            " [-4.47146094e+00  1.72921574e+00  2.57094113e+00 ...  4.58751886e-01\n",
            "   1.26733481e-03  3.29353413e-01]]\n",
            "(200, 39)\n",
            "Accuracy 0.965\n",
            "[[-9.69412180e+03  3.30233520e+03  1.85575542e+03 ... -6.19734463e+01\n",
            "   3.68759633e+01 -4.82406150e+01]\n",
            " [-9.49730393e+03  3.11826010e+03  1.47726438e+03 ... -8.67543428e+01\n",
            "   3.85935975e+01 -5.31166179e+01]\n",
            " [-9.24146179e+03  3.74494939e+03  1.62112006e+03 ... -1.11836801e+02\n",
            "  -3.81870611e+01 -5.52290959e+01]\n",
            " ...\n",
            " [-8.20410452e+03  2.20581558e+03  1.20514321e+03 ... -4.75007544e+00\n",
            "  -7.69495459e+00 -5.48698240e+01]\n",
            " [-8.23229763e+03  2.10138935e+03  1.09438964e+03 ... -1.53601034e+01\n",
            "  -1.35314266e+01 -1.60306052e+01]\n",
            " [-8.09397364e+03  2.13659553e+03  1.17415285e+03 ... -1.31827499e+01\n",
            "  -1.74553812e+01  4.57322845e+01]]\n"
          ],
          "name": "stdout"
        },
        {
          "output_type": "stream",
          "text": [
            "/usr/local/lib/python3.7/dist-packages/sklearn/utils/validation.py:760: DataConversionWarning: A column-vector y was passed when a 1d array was expected. Please change the shape of y to (n_samples, ), for example using ravel().\n",
            "  y = column_or_1d(y, warn=True)\n",
            "/usr/local/lib/python3.7/dist-packages/ipykernel_launcher.py:11: DataConversionWarning: A column-vector y was passed when a 1d array was expected. Please change the shape of y to (n_samples, ), for example using ravel().\n",
            "  # This is added back by InteractiveShellApp.init_path()\n"
          ],
          "name": "stderr"
        }
      ]
    },
    {
      "cell_type": "code",
      "metadata": {
        "colab": {
          "base_uri": "https://localhost:8080/"
        },
        "id": "_Zhhdj583KG8",
        "outputId": "221ee7f8-95b9-4290-be58-f41917a056b7"
      },
      "source": [
        " print(X_train)\n",
        "lda_train,lda_test = LDA_model.transform(39)\n",
        "#print(lda_train)"
      ],
      "execution_count": null,
      "outputs": [
        {
          "output_type": "stream",
          "text": [
            "[[ 60  60  62 ...  32  34  34]\n",
            " [ 63  53  35 ...  41  10  24]\n",
            " [ 43  50  41 ... 158 153 169]\n",
            " ...\n",
            " [123 121 126 ...  40  35  42]\n",
            " [125 119 124 ...  36  39  40]\n",
            " [125 124 124 ...  36  35  34]]\n"
          ],
          "name": "stdout"
        }
      ]
    },
    {
      "cell_type": "code",
      "metadata": {
        "colab": {
          "base_uri": "https://localhost:8080/"
        },
        "id": "eheOHzZAuktb",
        "outputId": "567aed55-a48c-42ea-dc4a-cfc950def3fe"
      },
      "source": [
        "#print((S.transpose()==S).all())\n",
        "#print((Sinv.transpose()== -Sinv).all())\n",
        "#print(Sinv)\n",
        "print(np.dot(np.linalg.inv(S),S))\n",
        "#print(np.dot(Sinv,S))"
      ],
      "execution_count": null,
      "outputs": [
        {
          "output_type": "stream",
          "text": [
            "[[ 1.00000000e+00  2.06880837e-32 -1.16828566e-32 ... -1.21738032e-32\n",
            "   5.58904870e-31  4.43734259e-32]\n",
            " [ 4.55633948e-32  1.00000000e+00  7.26383286e-33 ... -8.90665562e-32\n",
            "  -4.30637936e-32 -2.78073469e-31]\n",
            " [-5.00591774e-32  1.11077235e-31  1.00000000e+00 ...  6.82346334e-32\n",
            "   2.26981376e-32 -4.66017269e-32]\n",
            " ...\n",
            " [ 3.06896937e-32 -4.80211372e-32 -5.86547231e-34 ...  1.00000000e+00\n",
            "  -6.47690240e-32 -2.10773773e-31]\n",
            " [ 1.14015053e-31 -1.45985490e-32 -5.41211893e-32 ...  6.07630897e-32\n",
            "   1.00000000e+00 -3.94430453e-32]\n",
            " [-7.70371978e-34 -7.31853379e-32 -3.54040091e-33 ... -1.25378039e-31\n",
            "   4.62223187e-33  1.00000000e+00]]\n"
          ],
          "name": "stdout"
        }
      ]
    },
    {
      "cell_type": "code",
      "metadata": {
        "colab": {
          "base_uri": "https://localhost:8080/"
        },
        "id": "lDl1IxELpTpO",
        "outputId": "842d23a6-5d9b-47dd-c723-f4265fffa7e2"
      },
      "source": [
        "lda_train,lda_test = LDA_model.transform(39)\n",
        "KNN = KNearstNeighbour(k=1)\n",
        "KNN.train(lda_train,y_train)\n",
        "y_pred = KNN.predict(lda_test) \n",
        "acc = (np.sum(y_pred == y_test) / len(y_test))\n",
        "print(\"The Model Accuracy Is\",acc*100, \"%\")"
      ],
      "execution_count": null,
      "outputs": [
        {
          "output_type": "stream",
          "text": [
            "The Model Accuracy Is 91.66666666666666 %\n"
          ],
          "name": "stdout"
        }
      ]
    },
    {
      "cell_type": "code",
      "metadata": {
        "colab": {
          "base_uri": "https://localhost:8080/",
          "height": 367
        },
        "id": "gTJxYbQCuW3O",
        "outputId": "f191a471-9a23-49d6-e534-5dbb85effc6f"
      },
      "source": [
        "#Classifier Tuning\n",
        "neighbours = [1,3,5,7]\n",
        "accuracy_lda = []\n",
        "accuracy_pca = []\n",
        "\n",
        "for n in neighbours:\n",
        "  KNN = KNearstNeighbour(k = n)\n",
        "  KNN.train(lda_train,y_train)\n",
        "  y_pred_lda = KNN.predict(lda_test) \n",
        "  arr_lda = (np.sum(y_pred_lda == y_test) / len(y_test))\n",
        "  accuracy_lda.append(arr_lda)\n",
        "  #\n",
        "  KNN.train(pca_train,y_train)\n",
        "  y_pred_pca = KNN.predict(pca_test) \n",
        "  arr_pca = (np.sum(y_pred_pca == y_test) / len(y_test))\n",
        "  accuracy_pca.append(arr_pca)\n",
        "\n",
        "\n",
        "for i in range(len(accuracy_pca)):\n",
        "  print(\"The Model Accuracy With\",neighbours[i],\"Neighbours Is\", accuracy_pca[i],\"\\t\",\n",
        "        \"The Model Accuracy With\",neighbours[i],\"Neighbours Is\", accuracy_lda[i])\n",
        "\n",
        "plt.subplot(1, 2, 1)\n",
        "plt.plot(neighbours,accuracy_pca)\n",
        "plt.xlabel(\"N-Neighbours\")\n",
        "plt.ylabel(\"Accuracy\")\n",
        "plt.title(\"PCA\")\n",
        "\n",
        "plt.subplot(1, 2, 2)\n",
        "plt.plot(neighbours,accuracy_lda, color = 'r')\n",
        "plt.xlabel(\"N-Neighbours\")\n",
        "plt.ylabel(\"Accuracy\")\n",
        "plt.title(\"LDA\")\n",
        "plt.tight_layout()\n",
        "plt.show()\n",
        "\n"
      ],
      "execution_count": null,
      "outputs": [
        {
          "output_type": "stream",
          "text": [
            "The Model Accuracy With 1 Neighbours Is 0.9666666666666667 \t The Model Accuracy With 1 Neighbours Is 0.9416666666666667\n",
            "The Model Accuracy With 3 Neighbours Is 0.8833333333333333 \t The Model Accuracy With 3 Neighbours Is 0.8666666666666667\n",
            "The Model Accuracy With 5 Neighbours Is 0.8083333333333333 \t The Model Accuracy With 5 Neighbours Is 0.7666666666666667\n",
            "The Model Accuracy With 7 Neighbours Is 0.8 \t The Model Accuracy With 7 Neighbours Is 0.6916666666666667\n"
          ],
          "name": "stdout"
        },
        {
          "output_type": "display_data",
          "data": {
            "image/png": "[encoded data removed]",
            "text/plain": [
              "<Figure size 432x288 with 2 Axes>"
            ]
          },
          "metadata": {
            "tags": [],
            "needs_background": "light"
          }
        }
      ]
    },
    {
      "cell_type": "code",
      "metadata": {
        "id": "iAR4KmekkQ2E"
      },
      "source": [
        ""
      ],
      "execution_count": null,
      "outputs": []
    },
    {
      "cell_type": "code",
      "metadata": {
        "id": "h7WNr_RAGOVS",
        "colab": {
          "base_uri": "https://localhost:8080/",
          "height": 278
        },
        "outputId": "b681d19d-a6ab-49b9-c7dd-17ecea905f80"
      },
      "source": [
        "img = cv2.imread('drive/MyDrive/Dataset/s1/1.pgm', 0) # '0' for reading grayscale images\n",
        "plt.imshow(img, cmap='gray')\n",
        "plt.axis('off')\n",
        "plt.title('A random grumpy person')\n",
        "plt.show()\n",
        "IMG_SHAPE = img.shape\n",
        "\n",
        "print(IMG_SHAPE)\n"
      ],
      "execution_count": null,
      "outputs": [
        {
          "output_type": "display_data",
          "data": {
            "image/png": "[encoded data removed]",
            "text/plain": [
              "<Figure size 432x288 with 1 Axes>"
            ]
          },
          "metadata": {
            "tags": [],
            "needs_background": "light"
          }
        },
        {
          "output_type": "stream",
          "text": [
            "(112, 92)\n"
          ],
          "name": "stdout"
        }
      ]
    },
    {
      "cell_type": "code",
      "metadata": {
        "colab": {
          "base_uri": "https://localhost:8080/",
          "height": 1000
        },
        "id": "iOu0XEcymTdK",
        "outputId": "0f2c25da-ed58-4fa4-d3b8-b11ae9a47499"
      },
      "source": [
        "pca_train,pca_test = pca_model.transform(44)\n",
        "print(pca_train.shape)\n",
        "print(pca_train[0].shape)\n",
        "# pca_train[0].reshape(44,1)\n",
        "fig, axes = plt.subplots(4, 11, figsize = (15, 15))\n",
        "axes.imshow(pca_train[0].reshape(44,1), cmap = 'gray')\n",
        "#pca_train[0].reshape(IMG_SHAPE)"
      ],
      "execution_count": null,
      "outputs": [
        {
          "output_type": "stream",
          "text": [
            "(280, 44)\n",
            "(44,)\n"
          ],
          "name": "stdout"
        },
        {
          "output_type": "error",
          "ename": "AttributeError",
          "evalue": "ignored",
          "traceback": [
            "\u001b[0;31m---------------------------------------------------------------------------\u001b[0m",
            "\u001b[0;31mAttributeError\u001b[0m                            Traceback (most recent call last)",
            "\u001b[0;32m<ipython-input-92-6d3ce7d57391>\u001b[0m in \u001b[0;36m<module>\u001b[0;34m()\u001b[0m\n\u001b[1;32m      4\u001b[0m \u001b[0;31m# pca_train[0].reshape(44,1)\u001b[0m\u001b[0;34m\u001b[0m\u001b[0;34m\u001b[0m\u001b[0;34m\u001b[0m\u001b[0m\n\u001b[1;32m      5\u001b[0m \u001b[0mfig\u001b[0m\u001b[0;34m,\u001b[0m \u001b[0maxes\u001b[0m \u001b[0;34m=\u001b[0m \u001b[0mplt\u001b[0m\u001b[0;34m.\u001b[0m\u001b[0msubplots\u001b[0m\u001b[0;34m(\u001b[0m\u001b[0;36m4\u001b[0m\u001b[0;34m,\u001b[0m \u001b[0;36m11\u001b[0m\u001b[0;34m,\u001b[0m \u001b[0mfigsize\u001b[0m \u001b[0;34m=\u001b[0m \u001b[0;34m(\u001b[0m\u001b[0;36m15\u001b[0m\u001b[0;34m,\u001b[0m \u001b[0;36m15\u001b[0m\u001b[0;34m)\u001b[0m\u001b[0;34m)\u001b[0m\u001b[0;34m\u001b[0m\u001b[0;34m\u001b[0m\u001b[0m\n\u001b[0;32m----> 6\u001b[0;31m \u001b[0maxes\u001b[0m\u001b[0;34m.\u001b[0m\u001b[0mimshow\u001b[0m\u001b[0;34m(\u001b[0m\u001b[0mpca_train\u001b[0m\u001b[0;34m[\u001b[0m\u001b[0;36m0\u001b[0m\u001b[0;34m]\u001b[0m\u001b[0;34m.\u001b[0m\u001b[0mreshape\u001b[0m\u001b[0;34m(\u001b[0m\u001b[0;36m44\u001b[0m\u001b[0;34m,\u001b[0m\u001b[0;36m1\u001b[0m\u001b[0;34m)\u001b[0m\u001b[0;34m,\u001b[0m \u001b[0mcmap\u001b[0m \u001b[0;34m=\u001b[0m \u001b[0;34m'gray'\u001b[0m\u001b[0;34m)\u001b[0m\u001b[0;34m\u001b[0m\u001b[0;34m\u001b[0m\u001b[0m\n\u001b[0m\u001b[1;32m      7\u001b[0m \u001b[0;31m#pca_train[0].reshape(IMG_SHAPE)\u001b[0m\u001b[0;34m\u001b[0m\u001b[0;34m\u001b[0m\u001b[0;34m\u001b[0m\u001b[0m\n",
            "\u001b[0;31mAttributeError\u001b[0m: 'numpy.ndarray' object has no attribute 'imshow'"
          ]
        },
        {
          "output_type": "display_data",
          "data": {
            "image/png": "[encoded data removed]",
            "text/plain": [
              "<Figure size 1080x1080 with 44 Axes>"
            ]
          },
          "metadata": {
            "tags": [],
            "needs_background": "light"
          }
        }
      ]
    },
    {
      "cell_type": "code",
      "metadata": {
        "colab": {
          "base_uri": "https://localhost:8080/"
        },
        "id": "hE49Ciygj2TG",
        "outputId": "410658d4-4c34-4218-a16f-06efe6dbfe50"
      },
      "source": [
        "print(pca_train.shape)"
      ],
      "execution_count": null,
      "outputs": [
        {
          "output_type": "stream",
          "text": [
            "(280, 44)\n"
          ],
          "name": "stdout"
        }
      ]
    },
    {
      "cell_type": "code",
      "metadata": {
        "colab": {
          "base_uri": "https://localhost:8080/",
          "height": 670
        },
        "id": "UjOsbymKjDjt",
        "outputId": "10cd8494-7925-4e37-e553-aa40d90c1564"
      },
      "source": [
        "fig, axes = plt.subplots(4, 11, figsize = (50, 15))\n",
        "for (ax,i) in zip(axes.flat, range(pca_train.shape[0])):\n",
        "    ax.imshow(pca_train[i].reshape(44, 1), cmap = 'gray')\n",
        "    ax.axis('off')\n",
        "fig.tight_layout(pad = 0)"
      ],
      "execution_count": null,
      "outputs": [
        {
          "output_type": "display_data",
          "data": {
            "image/png": "[encoded data removed]",
            "text/plain": [
              "<Figure size 3600x1080 with 44 Axes>"
            ]
          },
          "metadata": {
            "tags": [],
            "needs_background": "light"
          }
        }
      ]
    },
    {
      "cell_type": "code",
      "metadata": {
        "id": "3Ya_w43BjtIz",
        "colab": {
          "base_uri": "https://localhost:8080/",
          "height": 274
        },
        "outputId": "f003070b-b32c-47eb-f42a-f418d5afd5be"
      },
      "source": [
        "# vector = vector2[:,:39].T\n",
        "vectorx = vector[:,:44].T\n",
        "print(vectorx.shape)\n",
        "\n",
        "# print(vector2.shape)\n",
        "# U_reduced is same as the 'components' matrix used previously\n",
        "A_0 = np.dot(pca_train[0], vectorx)\n",
        "print(A_0.shape)\n",
        "\n",
        "# Displaying the images:\n",
        "A_0 = A_0.reshape(112, 92)\n",
        "plt.subplot(1, 2, 1)\n",
        "plt.axis('off')\n",
        "plt.title('Reconstructed Image')\n",
        "plt.imshow(A_0, cmap='gray')\n",
        "plt.subplot(1, 2, 2)\n",
        "plt.axis('off')\n",
        "plt.title('Actual Image')\n",
        "plt.imshow(D[0].reshape(112, 92), cmap='gray')\n",
        "plt.tight_layout(pad = 0)\n",
        "plt.show()"
      ],
      "execution_count": null,
      "outputs": [
        {
          "output_type": "stream",
          "text": [
            "(44, 10304)\n"
          ],
          "name": "stdout"
        },
        {
          "output_type": "error",
          "ename": "ValueError",
          "evalue": "ignored",
          "traceback": [
            "\u001b[0;31m---------------------------------------------------------------------------\u001b[0m",
            "\u001b[0;31mValueError\u001b[0m                                Traceback (most recent call last)",
            "\u001b[0;32m<ipython-input-117-370dfc7338e2>\u001b[0m in \u001b[0;36m<module>\u001b[0;34m()\u001b[0m\n\u001b[1;32m      5\u001b[0m \u001b[0;31m# print(vector2.shape)\u001b[0m\u001b[0;34m\u001b[0m\u001b[0;34m\u001b[0m\u001b[0;34m\u001b[0m\u001b[0m\n\u001b[1;32m      6\u001b[0m \u001b[0;31m# U_reduced is same as the 'components' matrix used previously\u001b[0m\u001b[0;34m\u001b[0m\u001b[0;34m\u001b[0m\u001b[0;34m\u001b[0m\u001b[0m\n\u001b[0;32m----> 7\u001b[0;31m \u001b[0mA_0\u001b[0m \u001b[0;34m=\u001b[0m \u001b[0mnp\u001b[0m\u001b[0;34m.\u001b[0m\u001b[0mdot\u001b[0m\u001b[0;34m(\u001b[0m\u001b[0mpca_train\u001b[0m\u001b[0;34m[\u001b[0m\u001b[0;36m0\u001b[0m\u001b[0;34m]\u001b[0m\u001b[0;34m,\u001b[0m \u001b[0mvectorx\u001b[0m\u001b[0;34m)\u001b[0m\u001b[0;34m\u001b[0m\u001b[0;34m\u001b[0m\u001b[0m\n\u001b[0m\u001b[1;32m      8\u001b[0m \u001b[0mprint\u001b[0m\u001b[0;34m(\u001b[0m\u001b[0mA_0\u001b[0m\u001b[0;34m.\u001b[0m\u001b[0mshape\u001b[0m\u001b[0;34m)\u001b[0m\u001b[0;34m\u001b[0m\u001b[0;34m\u001b[0m\u001b[0m\n\u001b[1;32m      9\u001b[0m \u001b[0;34m\u001b[0m\u001b[0m\n",
            "\u001b[0;32m<__array_function__ internals>\u001b[0m in \u001b[0;36mdot\u001b[0;34m(*args, **kwargs)\u001b[0m\n",
            "\u001b[0;31mValueError\u001b[0m: shapes (148,) and (44,10304) not aligned: 148 (dim 0) != 44 (dim 0)"
          ]
        }
      ]
    },
    {
      "cell_type": "code",
      "metadata": {
        "id": "HF0Bt16u7QAT"
      },
      "source": [
        ""
      ],
      "execution_count": null,
      "outputs": []
    }
  ]
}